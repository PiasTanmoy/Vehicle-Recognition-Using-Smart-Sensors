{
  "nbformat": 4,
  "nbformat_minor": 0,
  "metadata": {
    "colab": {
      "name": "Vehicle Recognition - Simulation.ipynb",
      "provenance": [],
      "collapsed_sections": []
    },
    "kernelspec": {
      "name": "python3",
      "display_name": "Python 3"
    },
    "language_info": {
      "name": "python"
    }
  },
  "cells": [
    {
      "cell_type": "markdown",
      "source": [
        "# Import"
      ],
      "metadata": {
        "id": "UWmEzbHvvudL"
      }
    },
    {
      "cell_type": "code",
      "execution_count": null,
      "metadata": {
        "id": "Gl14IzEVtxJs"
      },
      "outputs": [],
      "source": [
        "import pandas as pd\n",
        "import numpy as np\n",
        "from tensorflow import keras\n",
        "import numpy as np\n",
        "import matplotlib.pyplot as plt\n",
        "import pandas as pd\n",
        "from keras.layers import Dense, Dropout, Flatten, Conv2D, MaxPooling2D, MaxPooling1D\n",
        "from keras.layers.merge import concatenate\n",
        "import matplotlib.pyplot as plt\n",
        "from sklearn.model_selection import train_test_split\n",
        "from tensorflow.keras.utils import to_categorical \n",
        "plt.rcParams[\"figure.figsize\"] = (30,10)\n",
        "plt.rcParams.update({'font.size': 27})"
      ]
    },
    {
      "cell_type": "markdown",
      "source": [
        "# Load Data"
      ],
      "metadata": {
        "id": "wevFLkhNvwv4"
      }
    },
    {
      "cell_type": "code",
      "source": [
        "car = pd.read_csv('/content/drive/Shareddrives/Vehicle Recognition - Sensor/Data/car-pias.csv')\n",
        "bus = pd.read_csv('/content/drive/Shareddrives/Vehicle Recognition - Sensor/Data/bus-pias.csv')\n",
        "bike = pd.read_csv('/content/drive/Shareddrives/Vehicle Recognition - Sensor/Data/bike-david.csv')\n",
        "rail = pd.read_csv('/content/drive/Shareddrives/Vehicle Recognition - Sensor/Data/NEW RAIL/rail1b.csv')\n",
        "\n",
        "rail_ag = rail[['ax', 'ay', 'az', 'wx', 'wy', 'wz']]\n",
        "bus_ag = bus[['ax', 'ay', 'az', 'wx', 'wy', 'wz']]\n",
        "bike_ag = bike[['ax', 'ay', 'az', 'wx', 'wy', 'wz']]\n",
        "car_ag = car[['ax', 'ay', 'az', 'wx', 'wy', 'wz']]"
      ],
      "metadata": {
        "id": "ajpPOgSWt3rh"
      },
      "execution_count": null,
      "outputs": []
    },
    {
      "cell_type": "markdown",
      "source": [
        "# Dataset Preparation"
      ],
      "metadata": {
        "id": "BhiJd1jYvzBo"
      }
    },
    {
      "cell_type": "code",
      "source": [
        "FL = 2800 # minimum of all files, the more the better. FL=20,000 is better than FL=2,000\n",
        "\n",
        "car_ag_fl = car_ag[:FL] \n",
        "rail_ag_fl = rail_ag[:FL]\n",
        "bus_ag_fl = bus_ag[:FL]\n",
        "bike_ag_fl = bike_ag[:FL]\n",
        "\n",
        "# generate class label\n",
        "c0 = np.full((FL), 0).reshape(FL, 1)\n",
        "c1 = np.full((FL), 1).reshape(FL, 1)\n",
        "c2 = np.full((FL), 2).reshape(FL, 1)\n",
        "c3 = np.full((FL), 3).reshape(FL, 1)\n",
        "\n",
        "print(car_ag_fl.shape, rail_ag_fl.shape, bus_ag_fl.shape, bike_ag_fl.shape, c0.shape, c1.shape, c2.shape, c3.shape)"
      ],
      "metadata": {
        "colab": {
          "base_uri": "https://localhost:8080/"
        },
        "id": "PjL_olXQt8W-",
        "outputId": "21e54afc-e908-4496-f049-c91f8271801f"
      },
      "execution_count": null,
      "outputs": [
        {
          "output_type": "stream",
          "name": "stdout",
          "text": [
            "(2800, 6) (2800, 6) (2800, 6) (2800, 6) (2800, 1) (2800, 1) (2800, 1) (2800, 1)\n"
          ]
        }
      ]
    },
    {
      "cell_type": "markdown",
      "source": [
        "# Simulate The Variables (David)\n",
        "1.   epochs = [10, 20, 50]\n",
        "2.   num_folds = [3, 5, 10]\n",
        "3.   batch_size = [16, 32, 64, 512]\n",
        "4.   window_size = [50, 100, 150, 200, 250, .... 500]\n"
      ],
      "metadata": {
        "id": "_UkELj6G1CKW"
      }
    },
    {
      "cell_type": "code",
      "source": [
        "epochs = 10\n",
        "num_folds = 5\n",
        "batch_size = 32\n",
        "window_size = 200"
      ],
      "metadata": {
        "id": "j7XwL-WA1Fp6"
      },
      "execution_count": null,
      "outputs": []
    },
    {
      "cell_type": "markdown",
      "source": [
        "# Data Preprocessing"
      ],
      "metadata": {
        "id": "TGjhNyGZv15r"
      }
    },
    {
      "cell_type": "code",
      "source": [
        "\n",
        "def segment_dataset(data_class, seg):\n",
        "  car_np = data_class.to_numpy()\n",
        "  car_seg = []\n",
        "  for i in range(car_np.shape[0] - seg):\n",
        "    car_seg.append(car_np[i:i+seg])\n",
        "  car_seg = np.array(car_seg) \n",
        "  return car_seg\n",
        "\n",
        "\n",
        "car_seg = segment_dataset(car_ag_fl, window_size)\n",
        "rail_seg = segment_dataset(rail_ag_fl, window_size)\n",
        "bus_seg = segment_dataset(bus_ag_fl, window_size)\n",
        "bike_seg = segment_dataset(bike_ag_fl, window_size)\n",
        "\n",
        "length = car_seg.shape[0]\n",
        "# generate class label\n",
        "c0 = np.full((length), 0)\n",
        "c1 = np.full((length), 1)\n",
        "c2 = np.full((length), 2)\n",
        "c3 = np.full((length), 3)\n",
        "\n",
        "print(car_seg.shape, c0.shape)\n",
        "\n",
        "X = np.concatenate((car_seg, rail_seg, bus_seg, bike_seg), axis=0)\n",
        "\n",
        "Y = np.concatenate((c0, c1, c2, c3), axis = None)\n",
        "Y = to_categorical(Y)\n",
        "\n",
        "trainX, testX, trainY, testY = train_test_split(X, Y, test_size=0.2, random_state=42)\n",
        "trainX.shape, testX.shape, trainY.shape, testY.shape"
      ],
      "metadata": {
        "colab": {
          "base_uri": "https://localhost:8080/"
        },
        "id": "-P1550EzuA2U",
        "outputId": "5b5da8ae-b51e-4296-f15a-b296570622fb"
      },
      "execution_count": null,
      "outputs": [
        {
          "output_type": "stream",
          "name": "stdout",
          "text": [
            "(2600, 200, 6) (2600,)\n"
          ]
        },
        {
          "output_type": "execute_result",
          "data": {
            "text/plain": [
              "((8320, 200, 6), (2080, 200, 6), (8320, 4), (2080, 4))"
            ]
          },
          "metadata": {},
          "execution_count": 6
        }
      ]
    },
    {
      "cell_type": "markdown",
      "source": [
        "# Set Input and Output Dimension"
      ],
      "metadata": {
        "id": "9U7kzE4Mv5SV"
      }
    },
    {
      "cell_type": "code",
      "source": [
        "num_classes = 4 # depends on the number of classes\n",
        "input_shape = (trainX.shape[1], trainX.shape[2]) # depends on the dimension of the dataset\n",
        "\n",
        "print(num_classes, input_shape)"
      ],
      "metadata": {
        "colab": {
          "base_uri": "https://localhost:8080/"
        },
        "id": "6JmWBApquCdB",
        "outputId": "827876b7-7d21-4f80-94ed-129aa220841c"
      },
      "execution_count": null,
      "outputs": [
        {
          "output_type": "stream",
          "name": "stdout",
          "text": [
            "4 (200, 6)\n"
          ]
        }
      ]
    },
    {
      "cell_type": "markdown",
      "source": [
        "# Design 1D CNN Model"
      ],
      "metadata": {
        "id": "ZPg9Z6SNv9SE"
      }
    },
    {
      "cell_type": "code",
      "source": [
        "def make_model(input_shape):\n",
        "  #input_layer = keras.layers.Input(input_shape)\n",
        "  \n",
        "  input_layer = keras.layers.Input(input_shape)\n",
        "\n",
        "  conv1 = keras.layers.Conv1D(filters=64, kernel_size=9, padding=\"same\")(input_layer)\n",
        "  conv1 = keras.layers.BatchNormalization()(conv1)\n",
        "  conv1 = keras.layers.ReLU()(conv1)\n",
        "  conv1 = MaxPooling1D(pool_size=(2)) (conv1)\n",
        "\n",
        "  conv2 = keras.layers.Conv1D(filters=64, kernel_size=9, padding=\"same\")(conv1)\n",
        "  conv2 = keras.layers.BatchNormalization()(conv2)\n",
        "  conv2 = keras.layers.ReLU()(conv2)\n",
        "  conv2 = MaxPooling1D(pool_size=(2)) (conv2)\n",
        "\n",
        "  conv3 = keras.layers.Conv1D(filters=64, kernel_size=9, padding=\"same\")(conv2)\n",
        "  conv3 = keras.layers.BatchNormalization()(conv3)\n",
        "  conv3 = keras.layers.ReLU()(conv3)\n",
        "  conv3 = MaxPooling1D(pool_size=(2)) (conv3)\n",
        "\n",
        "  connect1 = concatenate([conv1, conv2, conv3], axis=1)\n",
        "\n",
        "\n",
        "  gap = keras.layers.GlobalAveragePooling1D()(connect1)\n",
        "\n",
        "  flat = Flatten() (gap)\n",
        "\n",
        "  dense1 = Dense(1024, activation='relu') (flat)\n",
        "  drop1 = Dropout(0.5) (dense1)\n",
        "\n",
        "  dense2 = Dense(256, activation='relu') (drop1)\n",
        "  drop2 = Dropout(0.5) (dense2)\n",
        "\n",
        "  dense3 = Dense(64, activation='relu') (drop2)\n",
        "  drop3 = Dropout(0.5) (dense3)\n",
        "\n",
        "  output_layer = keras.layers.Dense(num_classes, activation=\"softmax\")(dense3)\n",
        "\n",
        "  return keras.models.Model(inputs=input_layer, outputs=output_layer)\n",
        "\n",
        "#input_shape = (100, 6)\n",
        "#num_classes = 4\n",
        "model = make_model(input_shape=input_shape)\n",
        "print(input_shape)\n",
        "#keras.utils.plot_model(model, show_shapes=True)"
      ],
      "metadata": {
        "colab": {
          "base_uri": "https://localhost:8080/"
        },
        "id": "ZLKz-hYquIDP",
        "outputId": "0fcd6739-0325-4685-ab5b-e9f99cee2c2b"
      },
      "execution_count": null,
      "outputs": [
        {
          "output_type": "stream",
          "name": "stdout",
          "text": [
            "(200, 6)\n"
          ]
        }
      ]
    },
    {
      "cell_type": "code",
      "source": [
        "model.save('my_model.h5')"
      ],
      "metadata": {
        "colab": {
          "base_uri": "https://localhost:8080/"
        },
        "id": "DEvA61LwnLiV",
        "outputId": "79943a2c-9fda-43f9-c9aa-2d8855bb4c5a"
      },
      "execution_count": null,
      "outputs": [
        {
          "output_type": "stream",
          "name": "stdout",
          "text": [
            "WARNING:tensorflow:Compiled the loaded model, but the compiled metrics have yet to be built. `model.compile_metrics` will be empty until you train or evaluate the model.\n"
          ]
        }
      ]
    },
    {
      "cell_type": "markdown",
      "source": [
        "# Experiment: KFold Validation"
      ],
      "metadata": {
        "id": "conAc3aqwAzk"
      }
    },
    {
      "cell_type": "code",
      "source": [
        "from sklearn.model_selection import KFold\n",
        "\n",
        "# Define the K-fold Cross Validator\n",
        "kfold = KFold(n_splits=num_folds, shuffle=True, random_state=42)\n",
        "\n",
        "acc_per_fold = []\n",
        "loss_per_fold = []\n",
        "h_acc = {}\n",
        "h_val_acc = {}\n",
        "\n",
        "# K-fold Cross Validation model evaluation\n",
        "fold_no = 1\n",
        "for train, test in kfold.split(X, Y):\n",
        "  model = make_model(input_shape=input_shape)\n",
        "  \n",
        "  model.compile(\n",
        "    optimizer=\"adam\",\n",
        "    loss=keras.losses.categorical_crossentropy,\n",
        "    metrics=[\"accuracy\"],\n",
        "  )\n",
        "  # Generate a print\n",
        "  print('------------------------------------------------------------------------')\n",
        "  print(f'Training for fold {fold_no} ...')\n",
        "\n",
        "  history = model.fit(\n",
        "    X[train],\n",
        "    Y[train],\n",
        "    batch_size=batch_size,\n",
        "    epochs=epochs,\n",
        "    validation_split = 0.2,\n",
        "    verbose=1,\n",
        "  )\n",
        "\n",
        "   # Generate generalization metrics\n",
        "  scores = model.evaluate(X[test], Y[test], verbose=1)\n",
        "  print(f'Score for fold {fold_no}: {model.metrics_names[0]} of {scores[0]}; {model.metrics_names[1]} of {scores[1]*100}%')\n",
        "  acc_per_fold.append(scores[1] * 100)\n",
        "  loss_per_fold.append(scores[0])\n",
        "  h_acc[fold_no] = history.history['accuracy']\n",
        "  h_val_acc[fold_no] = history.history['val_accuracy']\n",
        "\n",
        "  # Increase fold number\n",
        "  fold_no = fold_no + 1"
      ],
      "metadata": {
        "colab": {
          "base_uri": "https://localhost:8080/"
        },
        "id": "expjv9EauVpH",
        "outputId": "92be536b-8cc8-4fb4-c833-b707fde119f9"
      },
      "execution_count": null,
      "outputs": [
        {
          "output_type": "stream",
          "name": "stdout",
          "text": [
            "------------------------------------------------------------------------\n",
            "Training for fold 1 ...\n",
            "Epoch 1/2\n",
            "208/208 [==============================] - 15s 63ms/step - loss: 0.2498 - accuracy: 0.9081 - val_loss: 3.4926 - val_accuracy: 0.0000e+00\n",
            "Epoch 2/2\n",
            "208/208 [==============================] - 13s 61ms/step - loss: 0.0511 - accuracy: 0.9847 - val_loss: 1.1461 - val_accuracy: 0.7109\n",
            "65/65 [==============================] - 1s 14ms/step - loss: 0.2749 - accuracy: 0.9202\n",
            "Score for fold 1: loss of 0.2749350666999817; accuracy of 92.0192301273346%\n",
            "------------------------------------------------------------------------\n",
            "Training for fold 2 ...\n",
            "Epoch 1/2\n",
            "208/208 [==============================] - 14s 63ms/step - loss: 0.2212 - accuracy: 0.9150 - val_loss: 3.8488 - val_accuracy: 0.0553\n",
            "Epoch 2/2\n",
            "208/208 [==============================] - 13s 62ms/step - loss: 0.0455 - accuracy: 0.9878 - val_loss: 1.5182 - val_accuracy: 0.4573\n",
            "65/65 [==============================] - 1s 14ms/step - loss: 0.3427 - accuracy: 0.8779\n",
            "Score for fold 2: loss of 0.34273892641067505; accuracy of 87.78846263885498%\n",
            "------------------------------------------------------------------------\n",
            "Training for fold 3 ...\n",
            "Epoch 1/2\n",
            "208/208 [==============================] - 15s 64ms/step - loss: 0.2200 - accuracy: 0.9151 - val_loss: 3.6896 - val_accuracy: 0.0180\n",
            "Epoch 2/2\n",
            "208/208 [==============================] - 22s 108ms/step - loss: 0.0459 - accuracy: 0.9841 - val_loss: 0.0603 - val_accuracy: 0.9832\n",
            "65/65 [==============================] - 2s 28ms/step - loss: 0.0128 - accuracy: 0.9966\n",
            "Score for fold 3: loss of 0.01284042652696371; accuracy of 99.66346025466919%\n",
            "------------------------------------------------------------------------\n",
            "Training for fold 4 ...\n",
            "Epoch 1/2\n",
            "208/208 [==============================] - 19s 82ms/step - loss: 0.2269 - accuracy: 0.9129 - val_loss: 2.7508 - val_accuracy: 0.1190\n",
            "Epoch 2/2\n",
            "208/208 [==============================] - 15s 74ms/step - loss: 0.0352 - accuracy: 0.9877 - val_loss: 1.3771 - val_accuracy: 0.6514\n",
            "65/65 [==============================] - 1s 14ms/step - loss: 0.2877 - accuracy: 0.9274\n",
            "Score for fold 4: loss of 0.2877408266067505; accuracy of 92.74038672447205%\n",
            "------------------------------------------------------------------------\n",
            "Training for fold 5 ...\n",
            "Epoch 1/2\n",
            "208/208 [==============================] - 14s 61ms/step - loss: 0.2256 - accuracy: 0.9160 - val_loss: 3.3806 - val_accuracy: 0.0835\n",
            "Epoch 2/2\n",
            "208/208 [==============================] - 13s 60ms/step - loss: 0.0309 - accuracy: 0.9892 - val_loss: 0.3522 - val_accuracy: 0.8882\n",
            "65/65 [==============================] - 1s 14ms/step - loss: 0.0723 - accuracy: 0.9798\n",
            "Score for fold 5: loss of 0.0722915381193161; accuracy of 97.98076748847961%\n"
          ]
        }
      ]
    },
    {
      "cell_type": "markdown",
      "source": [
        "# Overall Kfold Accuracy\n",
        "\n"
      ],
      "metadata": {
        "id": "m6yQakqPk4X2"
      }
    },
    {
      "cell_type": "code",
      "source": [
        "sum(acc_per_fold)/num_folds"
      ],
      "metadata": {
        "colab": {
          "base_uri": "https://localhost:8080/"
        },
        "id": "U9JQbEfbkCph",
        "outputId": "28a56119-239f-4f13-bee0-42178501f74a"
      },
      "execution_count": null,
      "outputs": [
        {
          "output_type": "execute_result",
          "data": {
            "text/plain": [
              "94.03846144676208"
            ]
          },
          "metadata": {},
          "execution_count": 14
        }
      ]
    },
    {
      "cell_type": "markdown",
      "source": [
        "# Save Accuracy"
      ],
      "metadata": {
        "id": "0bWZK2oIwGLP"
      }
    },
    {
      "cell_type": "code",
      "source": [
        "File_name = \"acc_per_fold_ws_\" + str(window_size) + \"_folds_\" + str(num_folds) + \"_batch_\" + str(batch_size) + \"_epochs_\" + str(epochs)\n",
        "acc_per_fold = np.array(acc_per_fold)\n",
        "np.savetxt(\"/content/drive/Shareddrives/Vehicle Recognition - Sensor/Simulation/Accuracy/\"+File_name + \".csv\", acc_per_fold, delimiter=\",\")"
      ],
      "metadata": {
        "id": "HRnfQxFruuyB"
      },
      "execution_count": null,
      "outputs": []
    },
    {
      "cell_type": "markdown",
      "source": [
        "# Visualize Training Graph"
      ],
      "metadata": {
        "id": "XLxjJJvowKKv"
      }
    },
    {
      "cell_type": "code",
      "source": [
        "acc_10 = pd.DataFrame.from_dict(h_acc)\n",
        "fig = acc_10.plot(xlabel = \"Epoch\", ylabel = \"Accuracy\")\n",
        "fig = fig.get_figure()\n",
        "fig.savefig(\"/content/drive/Shareddrives/Vehicle Recognition - Sensor/Simulation/Graphs/\"+File_name+'_acc.png', dpi=300)"
      ],
      "metadata": {
        "colab": {
          "base_uri": "https://localhost:8080/",
          "height": 279
        },
        "id": "8k650Nb7uf3m",
        "outputId": "c5d3f5ff-123f-4e24-9918-4bfb4b72dc45"
      },
      "execution_count": null,
      "outputs": [
        {
          "output_type": "display_data",
          "data": {
            "text/plain": [
              "<Figure size 432x288 with 1 Axes>"
            ],
            "image/png": "[encoded data removed]"
          },
          "metadata": {
            "needs_background": "light"
          }
        }
      ]
    },
    {
      "cell_type": "code",
      "source": [
        "val_acc_10 = pd.DataFrame.from_dict(h_val_acc)\n",
        "fig = val_acc_10.plot()\n",
        "\n",
        "fig = fig.get_figure()\n",
        "fig.savefig(\"/content/drive/Shareddrives/Vehicle Recognition - Sensor/Simulation/Graphs/\"+File_name+'_val.png', dpi=300)"
      ],
      "metadata": {
        "colab": {
          "base_uri": "https://localhost:8080/",
          "height": 266
        },
        "id": "2-d_fq7euh8H",
        "outputId": "0b6e477d-6026-4249-fd6e-19cbf604e27b"
      },
      "execution_count": null,
      "outputs": [
        {
          "output_type": "display_data",
          "data": {
            "text/plain": [
              "<Figure size 432x288 with 1 Axes>"
            ],
            "image/png": "[encoded data removed]"
          },
          "metadata": {
            "needs_background": "light"
          }
        }
      ]
    }
  ]
}