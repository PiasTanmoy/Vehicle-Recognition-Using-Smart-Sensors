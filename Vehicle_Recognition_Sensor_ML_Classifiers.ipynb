{
  "nbformat": 4,
  "nbformat_minor": 0,
  "metadata": {
    "colab": {
      "name": "Vehicle Recognition Sensor - ML Classifiers.ipynb",
      "provenance": [],
      "collapsed_sections": [],
      "mount_file_id": "1xmxwT93Uu_j6cxkoUd3KqycX-oAZYCjk",
      "authorship_tag": "ABX9TyOu0VrjiMT9Pn2JF8U4LqYt",
      "include_colab_link": true
    },
    "kernelspec": {
      "name": "python3",
      "display_name": "Python 3"
    },
    "language_info": {
      "name": "python"
    }
  },
  "cells": [
    {
      "cell_type": "markdown",
      "metadata": {
        "id": "view-in-github",
        "colab_type": "text"
      },
      "source": [
        "<a href=\"https://colab.research.google.com/github/PiasTanmoy/Vehicle-Recognition-Using-Smart-Sensors/blob/main/Vehicle_Recognition_Sensor_ML_Classifiers.ipynb\" target=\"_parent\"><img src=\"https://colab.research.google.com/assets/colab-badge.svg\" alt=\"Open In Colab\"/></a>"
      ]
    },
    {
      "cell_type": "markdown",
      "source": [
        "# Import"
      ],
      "metadata": {
        "id": "UWmEzbHvvudL"
      }
    },
    {
      "cell_type": "code",
      "execution_count": null,
      "metadata": {
        "id": "Gl14IzEVtxJs"
      },
      "outputs": [],
      "source": [
        "import pandas as pd\n",
        "import numpy as np\n",
        "from tensorflow import keras\n",
        "import numpy as np\n",
        "import matplotlib.pyplot as plt\n",
        "import pandas as pd\n",
        "from keras.layers import Dense, Dropout, Flatten, Conv2D, MaxPooling2D, MaxPooling1D\n",
        "from keras.layers.merge import concatenate\n",
        "import matplotlib.pyplot as plt\n",
        "from sklearn.model_selection import train_test_split\n",
        "from tensorflow.keras.utils import to_categorical \n",
        "plt.rcParams[\"figure.figsize\"] = (30,10)\n",
        "plt.rcParams.update({'font.size': 27})"
      ]
    },
    {
      "cell_type": "markdown",
      "source": [
        "# Load Data"
      ],
      "metadata": {
        "id": "wevFLkhNvwv4"
      }
    },
    {
      "cell_type": "code",
      "source": [
        "car = pd.read_csv('/content/drive/Shareddrives/Vehicle Recognition - Sensor/Data/car-pias.csv')\n",
        "bus = pd.read_csv('/content/drive/Shareddrives/Vehicle Recognition - Sensor/Data/bus-pias.csv')\n",
        "bike = pd.read_csv('/content/drive/Shareddrives/Vehicle Recognition - Sensor/Data/bike-david.csv')\n",
        "rail = pd.read_csv('/content/drive/Shareddrives/Vehicle Recognition - Sensor/Data/NEW RAIL/rail1b.csv')\n",
        "\n",
        "rail_ag = rail[['ax', 'ay', 'az', 'wx', 'wy', 'wz']]\n",
        "bus_ag = bus[['ax', 'ay', 'az', 'wx', 'wy', 'wz']]\n",
        "bike_ag = bike[['ax', 'ay', 'az', 'wx', 'wy', 'wz']]\n",
        "car_ag = car[['ax', 'ay', 'az', 'wx', 'wy', 'wz']]"
      ],
      "metadata": {
        "id": "ajpPOgSWt3rh"
      },
      "execution_count": null,
      "outputs": []
    },
    {
      "cell_type": "markdown",
      "source": [
        "# SVM"
      ],
      "metadata": {
        "id": "tqnujKpaQkuR"
      }
    },
    {
      "cell_type": "code",
      "source": [
        "FL = 2800 # minimum of all files, the more the better. FL=20,000 is better than FL=2,000\n",
        "\n",
        "car_ag_fl = car_ag[:FL] \n",
        "rail_ag_fl = rail_ag[:FL]\n",
        "bus_ag_fl = bus_ag[:FL]\n",
        "bike_ag_fl = bike_ag[:FL]\n",
        "\n",
        "# generate class label\n",
        "c0 = np.full((FL), 0).reshape(FL, 1)\n",
        "c1 = np.full((FL), 1).reshape(FL, 1)\n",
        "c2 = np.full((FL), 2).reshape(FL, 1)\n",
        "c3 = np.full((FL), 3).reshape(FL, 1)\n",
        "\n",
        "X = np.concatenate((car_ag_fl, rail_ag_fl, bus_ag_fl, bike_ag_fl), axis=0)\n",
        "\n",
        "Y = np.concatenate((c0, c1, c2, c3), axis = None)\n",
        "#Y = to_categorical(Y)\n",
        "\n",
        "trainX, testX, trainY, testY = train_test_split(X, Y, test_size=0.2, random_state=42)\n",
        "trainX.shape, testX.shape, trainY.shape, testY.shape\n",
        "\n",
        "from sklearn import svm\n",
        "clf = svm.SVC()\n",
        "clf.fit(trainX, trainY)\n",
        "\n",
        "# make predictions on test set\n",
        "from sklearn.metrics import accuracy_score\n",
        "\n",
        "y_pred=clf.predict(testX)\n",
        "print(accuracy_score(testY, y_pred)) "
      ],
      "metadata": {
        "colab": {
          "base_uri": "https://localhost:8080/"
        },
        "id": "yBq598stQmP_",
        "outputId": "d3c15ecb-b402-433d-914f-487e80ba195c"
      },
      "execution_count": null,
      "outputs": [
        {
          "output_type": "stream",
          "name": "stdout",
          "text": [
            "0.7611607142857143\n"
          ]
        }
      ]
    },
    {
      "cell_type": "markdown",
      "source": [
        "# Logistic Regression\n"
      ],
      "metadata": {
        "id": "VirXCLuCVIpC"
      }
    },
    {
      "cell_type": "code",
      "source": [
        "from sklearn.linear_model import LogisticRegression\n",
        "from sklearn import metrics\n",
        "logreg = LogisticRegression()\n",
        "logreg.fit(trainX,trainY) \n",
        "y_pred = logreg.predict(testX)\n",
        "print('Model accuracy score: {0:0.4f}'. format(accuracy_score(testY, y_pred))) "
      ],
      "metadata": {
        "colab": {
          "base_uri": "https://localhost:8080/"
        },
        "id": "ZIOzfySVUxvB",
        "outputId": "e5514e74-7976-49b3-8ec2-7c558041f45a"
      },
      "execution_count": null,
      "outputs": [
        {
          "output_type": "stream",
          "name": "stdout",
          "text": [
            "Model accuracy score: 0.4536\n"
          ]
        }
      ]
    },
    {
      "cell_type": "markdown",
      "source": [
        "# Naive Bayes"
      ],
      "metadata": {
        "id": "8_B1smLdWDvI"
      }
    },
    {
      "cell_type": "code",
      "source": [
        "from sklearn.naive_bayes import GaussianNB\n",
        "nb_model = GaussianNB()\n",
        "nb_model.fit(trainX,trainY)\n",
        "nb_model.score(testX,testY)"
      ],
      "metadata": {
        "colab": {
          "base_uri": "https://localhost:8080/"
        },
        "id": "QNwQJPIKWC9l",
        "outputId": "9bf90bc1-f55d-4136-fe30-f679660088d8"
      },
      "execution_count": null,
      "outputs": [
        {
          "output_type": "execute_result",
          "data": {
            "text/plain": [
              "0.58125"
            ]
          },
          "metadata": {},
          "execution_count": 15
        }
      ]
    },
    {
      "cell_type": "markdown",
      "source": [
        "# XGBoost\n"
      ],
      "metadata": {
        "id": "JxCYVNUvWV38"
      }
    },
    {
      "cell_type": "code",
      "source": [
        "import xgboost as xgb\n",
        "xg_model = xgb.XGBClassifier()\n",
        "xg_model.fit(trainX,trainY)\n",
        "xg_model.score(testX,testY)"
      ],
      "metadata": {
        "colab": {
          "base_uri": "https://localhost:8080/"
        },
        "id": "wVhhdUjsWXxx",
        "outputId": "dfeb4644-8ab6-4788-9a82-a53d4dfe5551"
      },
      "execution_count": null,
      "outputs": [
        {
          "output_type": "execute_result",
          "data": {
            "text/plain": [
              "0.8473214285714286"
            ]
          },
          "metadata": {},
          "execution_count": 16
        }
      ]
    }
  ]
}